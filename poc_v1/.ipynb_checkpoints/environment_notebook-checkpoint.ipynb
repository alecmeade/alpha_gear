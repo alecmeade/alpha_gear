{
 "cells": [
  {
   "cell_type": "markdown",
   "id": "8363b1fc",
   "metadata": {},
   "source": [
    "# AlphaGear POC"
   ]
  },
  {
   "cell_type": "markdown",
   "id": "05e03b53",
   "metadata": {},
   "source": [
    "Notebook to test the environment and dynamics of the AlphaGear POC. Some information and assumptions below:\n",
    "\n",
    "    - Game setting\n",
    "\t\t○ 1 agent only, 1 neutral\n",
    "\t- Environment\n",
    "\t\t○ State (one-hot encoded) = \n",
    "\t\t\t- [States owned] N \n",
    "\t\t\t- [States opponent owned] N\n",
    "\t\t\t- Soldiers on each square (max soldiers x N)^N\n",
    "\t\t\t- So if we play on even a toy map: 5 x 5 with max 10 soldiers, that is: 5 x 5 x (10 x 5) ^ 5 = 7E9 states\n",
    "\t\t○ State (functional approx)\n",
    "\t\t\t- State distribution [size M players x N tiles]\n",
    "\t\t○ Simple grid - POC_grid.xlsx\n",
    "\t\t\t- No fog\n",
    "\t\t○ Env_init\n",
    "\t\t\t- Randomly distribute the state w/ 3 troops\n",
    "\t\t○ Env_step\n",
    "\t\t\t- Dynamics\n",
    "\t\t\t\t□ Still dictated by the attacking logic \n",
    "\t\t\t\t\t® + Attacker gets 3 troops at the territory they attack from?\n",
    "\t\t\t\t\t® Attacker gets + 3 troops for each group of territories they own\n",
    "\t\t\t\t□ Need to move all troops over\n",
    "\t- Actions\n",
    "\t\t○ [Attack up, Attack down, Attack left, Attack right, Do nothing]\n",
    "\t\t\t- Attacking into your own territory effectively does nothing\n",
    "\t\t○ 1 per turn\n",
    "\t\t○ Exploration with softmax\n",
    "\t\t\n",
    "\t- Rewards\n",
    "\t\t○ +1 for winning the game"
   ]
  },
  {
   "cell_type": "markdown",
   "id": "295e55cc",
   "metadata": {},
   "source": [
    "## Creating the Environment"
   ]
  },
  {
   "cell_type": "code",
   "execution_count": 1,
   "id": "1bf67b9a",
   "metadata": {},
   "outputs": [
    {
     "name": "stderr",
     "output_type": "stream",
     "text": [
      "C:\\Users\\david\\Anaconda3\\lib\\site-packages\\statsmodels\\tools\\_testing.py:19: FutureWarning: pandas.util.testing is deprecated. Use the functions in the public API at pandas.testing instead.\n",
      "  import pandas.util.testing as tm\n"
     ]
    }
   ],
   "source": [
    "from Coursera_lab_files import environment\n",
    "from dynamics import *\n",
    "import random\n",
    "import numpy as np\n",
    "import matplotlib.pyplot as plt\n",
    "import seaborn as sns\n",
    "from matplotlib.colors import ListedColormap\n",
    "\n",
    "class RiskEnvironmentPOC(environment.BaseEnvironment):\n",
    "    def __init__(self):\n",
    "        self.current_state = None\n",
    "        self.count = 0\n",
    "        \n",
    "    def env_init(self, env_info):\n",
    "        # users set this up\n",
    "        \"\"\"Setup for the environment called when the experiment first starts.\n",
    "\n",
    "        Note:\n",
    "            Initialize a tuple with the reward, first state observation, boolean\n",
    "            indicating if it's terminal.\n",
    "        \"\"\"\n",
    "        self.state = np.array([0, np.zeros(env_info['states']), False]) #reward, state init, boolean\n",
    "        # number of states - should be a perfect square                 \n",
    "        # Does not need to return anything\n",
    "    \n",
    "    def env_start(self):\n",
    "        \"\"\"The first method called when the experiment starts, called before the\n",
    "        agent starts.\n",
    "\n",
    "        Returns:\n",
    "            The first state observation from the environment.\n",
    "        \"\"\"\n",
    "        # Set up the board with troops\n",
    "        # where 'positive = agent troops' and 'negative = neutral troops'\n",
    "        states_remaining = list(range(len(self.state[1]))) # list of states to choose from\n",
    "        turn = True # whether it is the turn of the agent to be assigned troops somewhere or not\n",
    "        \n",
    "        for i in range(len(self.state[1])):\n",
    "            \n",
    "            # determine index to assign troops to\n",
    "            index = random.choice(states_remaining)\n",
    "            states_remaining.remove(index)\n",
    "            \n",
    "            if turn == True:\n",
    "                self.state[1][index] = 3\n",
    "                turn = False\n",
    "            else:\n",
    "                self.state[1][index] = -3\n",
    "                turn = True  \n",
    "\n",
    "        self.current_state = self.state[1]\n",
    "        return self.current_state\n",
    "    \n",
    "    def env_step(self, action):\n",
    "        \"\"\"A step taken by the environment.\n",
    "\n",
    "        Args:\n",
    "            action: The action taken by the agent\n",
    "\n",
    "        Returns:\n",
    "            (float, state, Boolean): a tuple of the reward, state observation,\n",
    "                and boolean indicating if it's terminal.\n",
    "        \"\"\"\n",
    "        #############\n",
    "        # Dynamics\n",
    "        ### functions that take in the action and return the observation\n",
    "        # X = func(action)\n",
    "        # initialize\n",
    "        terminal = False\n",
    "        reward = 0.0\n",
    "        observation = action_state(self.state[1], action, 4) # Can be 5 or 4 - returns next state and reward from dynamics\n",
    "        #############\n",
    "        \n",
    "        # use the above observations to decide what the reward will be, and if the agent is in a terminal state.\n",
    "        \n",
    "        #############\n",
    "        # Reward function\n",
    "        \n",
    "        # In this simple implementation (where + numbers represent the agents territories, the game is over when all numbers in the grid are positive)\n",
    "        comparison = np.where(observation < 0, observation, 0) == np.zeros(len(self.state[1])) # True if no negatives\n",
    "\n",
    "        if comparison.all():\n",
    "            # agent wins                \n",
    "            terminal = True\n",
    "            reward += 1\n",
    "         \n",
    "        else: \n",
    "            # continue\n",
    "            terminal = False\n",
    "            reward += 0.0\n",
    "        #############\n",
    "        \n",
    "        self.state[0] = reward\n",
    "        self.state[1] = observation\n",
    "        self.state[2] = terminal\n",
    "        self.current_state = self.state[1]\n",
    "        \n",
    "        self.reward_obs_term = (reward, observation, terminal)\n",
    "        return self.reward_obs_term\n",
    "    \n",
    "    def env_cleanup(self):\n",
    "        return None\n",
    "    \n",
    "    def env_message(self):\n",
    "        return None\n",
    "    \n",
    "    def env_print_state(self):\n",
    "        dim = int(np.sqrt(len(self.state[1])))\n",
    "        grid = self.state[1].reshape((dim,dim), order = \"C\")\n",
    "\n",
    "        # determine who owns which territories\n",
    "        player_squares = np.zeros(len(self.state[1]))\n",
    "        for i in range(len(player_squares)):\n",
    "            if self.state[1][i] > 0:\n",
    "                player_squares[i] = 1\n",
    "            else:\n",
    "                player_squares[i] = 0\n",
    "        grid_player = player_squares.reshape((dim,dim), order = \"C\")\n",
    "        \n",
    "        cmap = ListedColormap(['blue', 'grey']) # player colors\n",
    "        ax = sns.heatmap(grid_player, cmap=cmap, annot=grid, cbar=False)\n",
    "        \n",
    "        #plot the borders\n",
    "        for i in range(grid.shape[1]+1):\n",
    "            if (i == int(dim/2+1)) or (i == int(dim/2)):  \n",
    "                ax.axvline(i, color='white', lw=2)\n",
    "                ax.axhline(i, color='white', lw=2)\n",
    "\n",
    "        plt.xticks(np.arange(0, dim+1, 1.0))\n",
    "        plt.yticks(np.arange(0, dim+1, 1.0))\n",
    "        plt.show()"
   ]
  },
  {
   "cell_type": "markdown",
   "id": "6837b625",
   "metadata": {},
   "source": [
    "## Testing"
   ]
  },
  {
   "cell_type": "code",
   "execution_count": 2,
   "id": "2a0b24ba",
   "metadata": {},
   "outputs": [],
   "source": [
    "environment = RiskEnvironmentPOC()\n",
    "env_info = {'states':25}"
   ]
  },
  {
   "cell_type": "code",
   "execution_count": 3,
   "id": "e0b5776d",
   "metadata": {},
   "outputs": [
    {
     "name": "stderr",
     "output_type": "stream",
     "text": [
      "C:\\Users\\david\\Anaconda3\\lib\\site-packages\\ipykernel_launcher.py:22: VisibleDeprecationWarning: Creating an ndarray from ragged nested sequences (which is a list-or-tuple of lists-or-tuples-or ndarrays with different lengths or shapes) is deprecated. If you meant to do this, you must specify 'dtype=object' when creating the ndarray.\n"
     ]
    },
    {
     "data": {
      "image/png": "[encoded data removed]",
      "text/plain": [
       "<Figure size 432x288 with 1 Axes>"
      ]
     },
     "metadata": {
      "needs_background": "light"
     },
     "output_type": "display_data"
    }
   ],
   "source": [
    "environment.env_init(env_info)\n",
    "environment.env_start()\n",
    "# print(environment.state)\n",
    "environment.env_print_state()"
   ]
  },
  {
   "cell_type": "code",
   "execution_count": 4,
   "id": "9a0e089b",
   "metadata": {},
   "outputs": [
    {
     "data": {
      "image/png": "[encoded data removed]",
      "text/plain": [
       "<Figure size 432x288 with 1 Axes>"
      ]
     },
     "metadata": {
      "needs_background": "light"
     },
     "output_type": "display_data"
    }
   ],
   "source": [
    "# action 0 should be from top right cell -> up (= nothing)\n",
    "reward, obs, term = environment.env_step(0)\n",
    "environment.env_print_state()\n"
   ]
  },
  {
   "cell_type": "code",
   "execution_count": 5,
   "id": "f3e13e07",
   "metadata": {},
   "outputs": [
    {
     "data": {
      "image/png": "[encoded data removed]",
      "text/plain": [
       "<Figure size 432x288 with 1 Axes>"
      ]
     },
     "metadata": {
      "needs_background": "light"
     },
     "output_type": "display_data"
    }
   ],
   "source": [
    "# action 1 should be from top right cell -> down\n",
    "reward, obs, term = environment.env_step(1)\n",
    "environment.env_print_state()"
   ]
  },
  {
   "cell_type": "code",
   "execution_count": 6,
   "id": "226210fe",
   "metadata": {},
   "outputs": [
    {
     "data": {
      "image/png": "[encoded data removed]",
      "text/plain": [
       "<Figure size 432x288 with 1 Axes>"
      ]
     },
     "metadata": {
      "needs_background": "light"
     },
     "output_type": "display_data"
    }
   ],
   "source": [
    "# action 2 should be from top right cell -> left (= nothing)\n",
    "reward, obs, term = environment.env_step(2)\n",
    "environment.env_print_state()"
   ]
  },
  {
   "cell_type": "code",
   "execution_count": 7,
   "id": "5b8c9483",
   "metadata": {},
   "outputs": [
    {
     "data": {
      "image/png": "[encoded data removed]",
      "text/plain": [
       "<Figure size 432x288 with 1 Axes>"
      ]
     },
     "metadata": {
      "needs_background": "light"
     },
     "output_type": "display_data"
    }
   ],
   "source": [
    "# action 3 should be from top right cell -> right \n",
    "reward, obs, term = environment.env_step(3)\n",
    "environment.env_print_state()"
   ]
  },
  {
   "cell_type": "code",
   "execution_count": 12,
   "id": "48b3311f",
   "metadata": {},
   "outputs": [
    {
     "data": {
      "image/png": "[encoded data removed]",
      "text/plain": [
       "<Figure size 432x288 with 1 Axes>"
      ]
     },
     "metadata": {
      "needs_background": "light"
     },
     "output_type": "display_data"
    }
   ],
   "source": [
    "# if num_actions == 4, action 4 should be up from square 2 (to do nothing)\n",
    "reward, obs, term = environment.env_step(4)\n",
    "environment.env_print_state()"
   ]
  },
  {
   "cell_type": "code",
   "execution_count": 15,
   "id": "9494ba84",
   "metadata": {},
   "outputs": [
    {
     "data": {
      "image/png": "[encoded data removed]",
      "text/plain": [
       "<Figure size 432x288 with 1 Axes>"
      ]
     },
     "metadata": {
      "needs_background": "light"
     },
     "output_type": "display_data"
    }
   ],
   "source": [
    "# if num_actions == 4, action 100 should be to do nothing\n",
    "reward, obs, term = environment.env_step(100)\n",
    "environment.env_print_state()"
   ]
  },
  {
   "cell_type": "code",
   "execution_count": null,
   "id": "03d1df26",
   "metadata": {},
   "outputs": [],
   "source": []
  }
 ],
 "metadata": {
  "kernelspec": {
   "display_name": "Python 3",
   "language": "python",
   "name": "python3"
  },
  "language_info": {
   "codemirror_mode": {
    "name": "ipython",
    "version": 3
   },
   "file_extension": ".py",
   "mimetype": "text/x-python",
   "name": "python",
   "nbconvert_exporter": "python",
   "pygments_lexer": "ipython3",
   "version": "3.7.4"
  }
 },
 "nbformat": 4,
 "nbformat_minor": 5
}
